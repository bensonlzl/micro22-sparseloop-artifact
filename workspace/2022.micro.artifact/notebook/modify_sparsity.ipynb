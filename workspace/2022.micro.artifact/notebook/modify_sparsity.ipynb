{
 "cells": [
  {
   "cell_type": "code",
   "execution_count": 1,
   "id": "0882ac76",
   "metadata": {},
   "outputs": [],
   "source": [
    "import pandas as pd\n",
    "import numpy as np\n",
    "import scipy.sparse as ss\n",
    "import os\n",
    "import yaml, inspect, os, sys, subprocess, pprint, shutil, argparse\n",
    "\n",
    "import matplotlib.pyplot as plt\n",
    "import re\n",
    "from collections import defaultdict\n",
    "import copy\n",
    "\n",
    "\n"
   ]
  },
  {
   "cell_type": "code",
   "execution_count": 2,
   "id": "d493cefd",
   "metadata": {},
   "outputs": [],
   "source": [
    "def get_yaml_object(yaml_filename):\n",
    "    yaml_object = {}\n",
    "    with open(yaml_filename) as stream:\n",
    "        try:\n",
    "            yaml_object = yaml.safe_load(stream)\n",
    "        except yaml.YAMLError as exc:\n",
    "            print(exc)\n",
    "    return yaml_object\n",
    "\n",
    "def write_yaml_to_file(yaml_filename, yaml_object):\n",
    "    with open(yaml_filename, 'w') as outfile:\n",
    "        yaml.dump(yaml_object, outfile, default_flow_style=False)"
   ]
  },
  {
   "cell_type": "code",
   "execution_count": 3,
   "id": "f400776f",
   "metadata": {},
   "outputs": [],
   "source": [
    "def modify_distributions(layer_yaml, input_sparsity = None, weight_sparsity = None):\n",
    "    new_layer_yaml = copy.deepcopy(layer_yaml)\n",
    "    if input_sparsity is not None:\n",
    "        new_layer_yaml['problem']['instance']['densities']['Inputs']['density'] = input_sparsity\n",
    "    if weight_sparsity is not None:\n",
    "        new_layer_yaml['problem']['instance']['densities']['Weights']['density'] = weight_sparsity\n",
    "    return new_layer_yaml"
   ]
  },
  {
   "cell_type": "code",
   "execution_count": 4,
   "id": "f60f7eba",
   "metadata": {},
   "outputs": [],
   "source": [
    "def modify_layer_with_sparsities(layer_yaml, input_sparsities):\n",
    "    return [\n",
    "        (modify_distributions(layer_yaml,input_sparsity), input_sparsity) for input_sparsity in input_sparsities\n",
    "    ]"
   ]
  },
  {
   "cell_type": "code",
   "execution_count": 5,
   "id": "d1bbb551",
   "metadata": {},
   "outputs": [],
   "source": [
    "def write_modified_layers(original_layer_name, modified_layers_with_labels):\n",
    "    filename_without_yaml = original_layer_name.strip('.yaml')\n",
    "    for modified_layer, label in modified_layers_with_labels:\n",
    "        new_filename = filename_without_yaml + '_sparse=' + str(label) + '.yaml'\n",
    "        print(f'writing {label} to {new_filename}')\n",
    "        write_yaml_to_file(new_filename,modified_layer)"
   ]
  },
  {
   "cell_type": "code",
   "execution_count": 6,
   "id": "08dd4d9a",
   "metadata": {
    "scrolled": true
   },
   "outputs": [
    {
     "name": "stdout",
     "output_type": "stream",
     "text": [
      "problem:\n",
      "  instance:\n",
      "    C: 64\n",
      "    E: 32\n",
      "    F: 32\n",
      "    G: 1\n",
      "    M: 64\n",
      "    N: 1\n",
      "    R: 1\n",
      "    S: 1\n",
      "    densities:\n",
      "      Inputs:\n",
      "        density: 0.73\n",
      "        distribution: hypergeometric\n",
      "      Weights:\n",
      "        density: 0.52\n",
      "        distribution: hypergeometric\n",
      "  shape:\n",
      "    coefficients:\n",
      "    - default: 1\n",
      "      name: Wstride\n",
      "    - default: 1\n",
      "      name: Hstride\n",
      "    - default: 1\n",
      "      name: Wdilation\n",
      "    - default: 1\n",
      "      name: Hdilation\n",
      "    data-spaces:\n",
      "    - name: Weights\n",
      "      projection:\n",
      "      - - - C\n",
      "      - - - M\n",
      "      - - - G\n",
      "      - - - R\n",
      "      - - - S\n",
      "    - name: Inputs\n",
      "      projection:\n",
      "      - - - N\n",
      "      - - - C\n",
      "      - - - G\n",
      "      - - - R\n",
      "          - Wdilation\n",
      "        - - E\n",
      "          - Wstride\n",
      "      - - - S\n",
      "          - Hdilation\n",
      "        - - F\n",
      "          - Hstride\n",
      "    - name: Outputs\n",
      "      projection:\n",
      "      - - - N\n",
      "      - - - G\n",
      "      - - - M\n",
      "      - - - F\n",
      "      - - - E\n",
      "      read-write: true\n",
      "    dimensions:\n",
      "    - R\n",
      "    - S\n",
      "    - E\n",
      "    - F\n",
      "    - C\n",
      "    - M\n",
      "    - N\n",
      "    - G\n",
      "    name: grouped-CONV\n"
     ]
    }
   ],
   "source": [
    "yaml_filename = os.path.join(\n",
    "    os.getcwd(),\n",
    "    '../evaluation_setups/fig12_eyerissv2_pe_setup/workload/mobilenet0.5-sparse/uniform_experiment/L07.yaml'\n",
    ")\n",
    "layer_yaml = get_yaml_object(yaml_filename)\n",
    "# print(layer_yaml)\n",
    "yaml.dump(layer_yaml, sys.stdout)\n",
    "\n"
   ]
  },
  {
   "cell_type": "code",
   "execution_count": 7,
   "id": "191a863c",
   "metadata": {},
   "outputs": [
    {
     "name": "stdout",
     "output_type": "stream",
     "text": [
      "writing 0.1 to /home/workspace/2022.micro.artifact/notebook/../evaluation_setups/fig12_eyerissv2_pe_setup/workload/mobilenet0.5-sparse/uniform_experiment/L07_sparse=0.1.yaml\n",
      "writing 0.2 to /home/workspace/2022.micro.artifact/notebook/../evaluation_setups/fig12_eyerissv2_pe_setup/workload/mobilenet0.5-sparse/uniform_experiment/L07_sparse=0.2.yaml\n",
      "writing 0.3 to /home/workspace/2022.micro.artifact/notebook/../evaluation_setups/fig12_eyerissv2_pe_setup/workload/mobilenet0.5-sparse/uniform_experiment/L07_sparse=0.3.yaml\n",
      "writing 0.4 to /home/workspace/2022.micro.artifact/notebook/../evaluation_setups/fig12_eyerissv2_pe_setup/workload/mobilenet0.5-sparse/uniform_experiment/L07_sparse=0.4.yaml\n",
      "writing 0.5 to /home/workspace/2022.micro.artifact/notebook/../evaluation_setups/fig12_eyerissv2_pe_setup/workload/mobilenet0.5-sparse/uniform_experiment/L07_sparse=0.5.yaml\n",
      "writing 0.6 to /home/workspace/2022.micro.artifact/notebook/../evaluation_setups/fig12_eyerissv2_pe_setup/workload/mobilenet0.5-sparse/uniform_experiment/L07_sparse=0.6.yaml\n",
      "writing 0.7 to /home/workspace/2022.micro.artifact/notebook/../evaluation_setups/fig12_eyerissv2_pe_setup/workload/mobilenet0.5-sparse/uniform_experiment/L07_sparse=0.7.yaml\n",
      "writing 0.8 to /home/workspace/2022.micro.artifact/notebook/../evaluation_setups/fig12_eyerissv2_pe_setup/workload/mobilenet0.5-sparse/uniform_experiment/L07_sparse=0.8.yaml\n",
      "writing 0.9 to /home/workspace/2022.micro.artifact/notebook/../evaluation_setups/fig12_eyerissv2_pe_setup/workload/mobilenet0.5-sparse/uniform_experiment/L07_sparse=0.9.yaml\n"
     ]
    }
   ],
   "source": [
    "input_sparsities = [i/10 for i in range(1,10)]\n",
    "write_modified_layers(\n",
    "    yaml_filename,\n",
    "    modify_layer_with_sparsities(\n",
    "        layer_yaml,\n",
    "        input_sparsities\n",
    "    )\n",
    ")"
   ]
  }
 ],
 "metadata": {
  "kernelspec": {
   "display_name": "Python 3 (ipykernel)",
   "language": "python",
   "name": "python3"
  },
  "language_info": {
   "codemirror_mode": {
    "name": "ipython",
    "version": 3
   },
   "file_extension": ".py",
   "mimetype": "text/x-python",
   "name": "python",
   "nbconvert_exporter": "python",
   "pygments_lexer": "ipython3",
   "version": "3.8.13"
  }
 },
 "nbformat": 4,
 "nbformat_minor": 5
}
